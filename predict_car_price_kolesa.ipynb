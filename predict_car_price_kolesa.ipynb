{
  "cells": [
    {
      "cell_type": "markdown",
      "source": [
        "**Connecting to my google drive (in order to upload the dataset)**"
      ],
      "metadata": {
        "id": "RG1Tm9FGk-w7"
      }
    },
    {
      "cell_type": "code",
      "source": [
        "from google.colab import drive\n",
        "drive.mount('/content/drive')"
      ],
      "metadata": {
        "colab": {
          "base_uri": "https://localhost:8080/"
        },
        "id": "7AyYJ3ujfZq9",
        "outputId": "e038fe0a-0bfa-4885-d03a-a81729db8e84"
      },
      "execution_count": 52,
      "outputs": [
        {
          "output_type": "stream",
          "name": "stdout",
          "text": [
            "Drive already mounted at /content/drive; to attempt to forcibly remount, call drive.mount(\"/content/drive\", force_remount=True).\n"
          ]
        }
      ]
    },
    {
      "cell_type": "markdown",
      "source": [
        "# **Importing all libraries and packages**"
      ],
      "metadata": {
        "id": "_NpokPRZlEm_"
      }
    },
    {
      "cell_type": "code",
      "source": [
        "import pandas as pd\n",
        "import matplotlib.pyplot as plt\n",
        "import seaborn as sns\n",
        "from sklearn.model_selection import train_test_split\n",
        "from sklearn.linear_model import LinearRegression\n",
        "from sklearn.linear_model import Lasso\n",
        "from sklearn import metrics"
      ],
      "metadata": {
        "id": "eIuBx3t_osCB"
      },
      "execution_count": 53,
      "outputs": []
    },
    {
      "cell_type": "markdown",
      "source": [
        "Loading  the dataset"
      ],
      "metadata": {
        "id": "KkkN30v9lR_Z"
      }
    },
    {
      "cell_type": "code",
      "source": [
        "kolesa_ds = pd.read_csv('/content/drive/MyDrive/dataset/newCARS.csv')"
      ],
      "metadata": {
        "id": "QqLpDD1VoskN"
      },
      "execution_count": 54,
      "outputs": []
    },
    {
      "cell_type": "code",
      "source": [
        "# check first 5 rows \n",
        "kolesa_ds.head()"
      ],
      "metadata": {
        "colab": {
          "base_uri": "https://localhost:8080/",
          "height": 206
        },
        "id": "Q8j7ldixovRk",
        "outputId": "d9a924f8-a0d0-4113-c439-752fe8235d9c"
      },
      "execution_count": 55,
      "outputs": [
        {
          "output_type": "execute_result",
          "data": {
            "text/plain": [
              "                        _id       Бренд   Год                Город   Коробка  \\\n",
              "0  63ee3fb5cd8947c8a954d662      Nissan  1995              Шымкент  механика   \n",
              "1  63ee3fb5cd8947c8a954d663  Mitsubishi  2020               Алматы  механика   \n",
              "2  63ee3fb5cd8947c8a954d664  ВАЗ (Lada)  2007               Актобе  механика   \n",
              "3  63ee3fb5cd8947c8a954d665     Porsche  2020  Нур-Султан (Астана)   автомат   \n",
              "4  63ee3fb5cd8947c8a954d666         JAC  2020             Костанай  механика   \n",
              "\n",
              "       Кузов         Модель  Объем           Привод  Пробег Топливо      Цена  \n",
              "0      седан        Primera    1.6  передний привод  319214  бензин    881000  \n",
              "1      пикап           L200    2.4    полный привод  140000  дизель  14490000  \n",
              "2      седан   2115 (седан)    1.5  передний привод  140000  бензин    750000  \n",
              "3  кроссовер  Cayenne Coupe    3.0    полный привод  140000  бензин  56062500  \n",
              "4      пикап             T6    2.0    полный привод  140000  дизель   7550000  "
            ],
            "text/html": [
              "\n",
              "  <div id=\"df-eb929080-b879-4464-8fd6-a6e429b7bc62\">\n",
              "    <div class=\"colab-df-container\">\n",
              "      <div>\n",
              "<style scoped>\n",
              "    .dataframe tbody tr th:only-of-type {\n",
              "        vertical-align: middle;\n",
              "    }\n",
              "\n",
              "    .dataframe tbody tr th {\n",
              "        vertical-align: top;\n",
              "    }\n",
              "\n",
              "    .dataframe thead th {\n",
              "        text-align: right;\n",
              "    }\n",
              "</style>\n",
              "<table border=\"1\" class=\"dataframe\">\n",
              "  <thead>\n",
              "    <tr style=\"text-align: right;\">\n",
              "      <th></th>\n",
              "      <th>_id</th>\n",
              "      <th>Бренд</th>\n",
              "      <th>Год</th>\n",
              "      <th>Город</th>\n",
              "      <th>Коробка</th>\n",
              "      <th>Кузов</th>\n",
              "      <th>Модель</th>\n",
              "      <th>Объем</th>\n",
              "      <th>Привод</th>\n",
              "      <th>Пробег</th>\n",
              "      <th>Топливо</th>\n",
              "      <th>Цена</th>\n",
              "    </tr>\n",
              "  </thead>\n",
              "  <tbody>\n",
              "    <tr>\n",
              "      <th>0</th>\n",
              "      <td>63ee3fb5cd8947c8a954d662</td>\n",
              "      <td>Nissan</td>\n",
              "      <td>1995</td>\n",
              "      <td>Шымкент</td>\n",
              "      <td>механика</td>\n",
              "      <td>седан</td>\n",
              "      <td>Primera</td>\n",
              "      <td>1.6</td>\n",
              "      <td>передний привод</td>\n",
              "      <td>319214</td>\n",
              "      <td>бензин</td>\n",
              "      <td>881000</td>\n",
              "    </tr>\n",
              "    <tr>\n",
              "      <th>1</th>\n",
              "      <td>63ee3fb5cd8947c8a954d663</td>\n",
              "      <td>Mitsubishi</td>\n",
              "      <td>2020</td>\n",
              "      <td>Алматы</td>\n",
              "      <td>механика</td>\n",
              "      <td>пикап</td>\n",
              "      <td>L200</td>\n",
              "      <td>2.4</td>\n",
              "      <td>полный привод</td>\n",
              "      <td>140000</td>\n",
              "      <td>дизель</td>\n",
              "      <td>14490000</td>\n",
              "    </tr>\n",
              "    <tr>\n",
              "      <th>2</th>\n",
              "      <td>63ee3fb5cd8947c8a954d664</td>\n",
              "      <td>ВАЗ (Lada)</td>\n",
              "      <td>2007</td>\n",
              "      <td>Актобе</td>\n",
              "      <td>механика</td>\n",
              "      <td>седан</td>\n",
              "      <td>2115 (седан)</td>\n",
              "      <td>1.5</td>\n",
              "      <td>передний привод</td>\n",
              "      <td>140000</td>\n",
              "      <td>бензин</td>\n",
              "      <td>750000</td>\n",
              "    </tr>\n",
              "    <tr>\n",
              "      <th>3</th>\n",
              "      <td>63ee3fb5cd8947c8a954d665</td>\n",
              "      <td>Porsche</td>\n",
              "      <td>2020</td>\n",
              "      <td>Нур-Султан (Астана)</td>\n",
              "      <td>автомат</td>\n",
              "      <td>кроссовер</td>\n",
              "      <td>Cayenne Coupe</td>\n",
              "      <td>3.0</td>\n",
              "      <td>полный привод</td>\n",
              "      <td>140000</td>\n",
              "      <td>бензин</td>\n",
              "      <td>56062500</td>\n",
              "    </tr>\n",
              "    <tr>\n",
              "      <th>4</th>\n",
              "      <td>63ee3fb5cd8947c8a954d666</td>\n",
              "      <td>JAC</td>\n",
              "      <td>2020</td>\n",
              "      <td>Костанай</td>\n",
              "      <td>механика</td>\n",
              "      <td>пикап</td>\n",
              "      <td>T6</td>\n",
              "      <td>2.0</td>\n",
              "      <td>полный привод</td>\n",
              "      <td>140000</td>\n",
              "      <td>дизель</td>\n",
              "      <td>7550000</td>\n",
              "    </tr>\n",
              "  </tbody>\n",
              "</table>\n",
              "</div>\n",
              "      <button class=\"colab-df-convert\" onclick=\"convertToInteractive('df-eb929080-b879-4464-8fd6-a6e429b7bc62')\"\n",
              "              title=\"Convert this dataframe to an interactive table.\"\n",
              "              style=\"display:none;\">\n",
              "        \n",
              "  <svg xmlns=\"http://www.w3.org/2000/svg\" height=\"24px\"viewBox=\"0 0 24 24\"\n",
              "       width=\"24px\">\n",
              "    <path d=\"M0 0h24v24H0V0z\" fill=\"none\"/>\n",
              "    <path d=\"M18.56 5.44l.94 2.06.94-2.06 2.06-.94-2.06-.94-.94-2.06-.94 2.06-2.06.94zm-11 1L8.5 8.5l.94-2.06 2.06-.94-2.06-.94L8.5 2.5l-.94 2.06-2.06.94zm10 10l.94 2.06.94-2.06 2.06-.94-2.06-.94-.94-2.06-.94 2.06-2.06.94z\"/><path d=\"M17.41 7.96l-1.37-1.37c-.4-.4-.92-.59-1.43-.59-.52 0-1.04.2-1.43.59L10.3 9.45l-7.72 7.72c-.78.78-.78 2.05 0 2.83L4 21.41c.39.39.9.59 1.41.59.51 0 1.02-.2 1.41-.59l7.78-7.78 2.81-2.81c.8-.78.8-2.07 0-2.86zM5.41 20L4 18.59l7.72-7.72 1.47 1.35L5.41 20z\"/>\n",
              "  </svg>\n",
              "      </button>\n",
              "      \n",
              "  <style>\n",
              "    .colab-df-container {\n",
              "      display:flex;\n",
              "      flex-wrap:wrap;\n",
              "      gap: 12px;\n",
              "    }\n",
              "\n",
              "    .colab-df-convert {\n",
              "      background-color: #E8F0FE;\n",
              "      border: none;\n",
              "      border-radius: 50%;\n",
              "      cursor: pointer;\n",
              "      display: none;\n",
              "      fill: #1967D2;\n",
              "      height: 32px;\n",
              "      padding: 0 0 0 0;\n",
              "      width: 32px;\n",
              "    }\n",
              "\n",
              "    .colab-df-convert:hover {\n",
              "      background-color: #E2EBFA;\n",
              "      box-shadow: 0px 1px 2px rgba(60, 64, 67, 0.3), 0px 1px 3px 1px rgba(60, 64, 67, 0.15);\n",
              "      fill: #174EA6;\n",
              "    }\n",
              "\n",
              "    [theme=dark] .colab-df-convert {\n",
              "      background-color: #3B4455;\n",
              "      fill: #D2E3FC;\n",
              "    }\n",
              "\n",
              "    [theme=dark] .colab-df-convert:hover {\n",
              "      background-color: #434B5C;\n",
              "      box-shadow: 0px 1px 3px 1px rgba(0, 0, 0, 0.15);\n",
              "      filter: drop-shadow(0px 1px 2px rgba(0, 0, 0, 0.3));\n",
              "      fill: #FFFFFF;\n",
              "    }\n",
              "  </style>\n",
              "\n",
              "      <script>\n",
              "        const buttonEl =\n",
              "          document.querySelector('#df-eb929080-b879-4464-8fd6-a6e429b7bc62 button.colab-df-convert');\n",
              "        buttonEl.style.display =\n",
              "          google.colab.kernel.accessAllowed ? 'block' : 'none';\n",
              "\n",
              "        async function convertToInteractive(key) {\n",
              "          const element = document.querySelector('#df-eb929080-b879-4464-8fd6-a6e429b7bc62');\n",
              "          const dataTable =\n",
              "            await google.colab.kernel.invokeFunction('convertToInteractive',\n",
              "                                                     [key], {});\n",
              "          if (!dataTable) return;\n",
              "\n",
              "          const docLinkHtml = 'Like what you see? Visit the ' +\n",
              "            '<a target=\"_blank\" href=https://colab.research.google.com/notebooks/data_table.ipynb>data table notebook</a>'\n",
              "            + ' to learn more about interactive tables.';\n",
              "          element.innerHTML = '';\n",
              "          dataTable['output_type'] = 'display_data';\n",
              "          await google.colab.output.renderOutput(dataTable, element);\n",
              "          const docLink = document.createElement('div');\n",
              "          docLink.innerHTML = docLinkHtml;\n",
              "          element.appendChild(docLink);\n",
              "        }\n",
              "      </script>\n",
              "    </div>\n",
              "  </div>\n",
              "  "
            ]
          },
          "metadata": {},
          "execution_count": 55
        }
      ]
    },
    {
      "cell_type": "code",
      "source": [
        "kolesa_ds.shape"
      ],
      "metadata": {
        "colab": {
          "base_uri": "https://localhost:8080/"
        },
        "id": "hrFm9jxHoyVM",
        "outputId": "709a0c84-6e18-4383-f3ea-098439e83009"
      },
      "execution_count": 56,
      "outputs": [
        {
          "output_type": "execute_result",
          "data": {
            "text/plain": [
              "(19985, 12)"
            ]
          },
          "metadata": {},
          "execution_count": 56
        }
      ]
    },
    {
      "cell_type": "markdown",
      "source": [
        "# Data processing"
      ],
      "metadata": {
        "id": "tuvP_OFqldc0"
      }
    },
    {
      "cell_type": "markdown",
      "source": [
        "**Find all missing values and dropping them:**"
      ],
      "metadata": {
        "id": "_z-MRrddkMpX"
      }
    },
    {
      "cell_type": "code",
      "source": [
        "kolesa_ds.isnull().sum()"
      ],
      "metadata": {
        "colab": {
          "base_uri": "https://localhost:8080/"
        },
        "id": "UiNB1EJVo1XF",
        "outputId": "c39871f0-084f-4e54-f11b-d63e7cbe5ba4"
      },
      "execution_count": 57,
      "outputs": [
        {
          "output_type": "execute_result",
          "data": {
            "text/plain": [
              "_id           0\n",
              "Бренд         0\n",
              "Год           0\n",
              "Город         0\n",
              "Коробка       0\n",
              "Кузов         0\n",
              "Модель       35\n",
              "Объем        14\n",
              "Привод     2245\n",
              "Пробег        0\n",
              "Топливо      14\n",
              "Цена          0\n",
              "dtype: int64"
            ]
          },
          "metadata": {},
          "execution_count": 57
        }
      ]
    },
    {
      "cell_type": "code",
      "source": [
        "kolesa_ds.dropna(inplace=True)"
      ],
      "metadata": {
        "id": "CW-va7EwvFxb"
      },
      "execution_count": 58,
      "outputs": []
    },
    {
      "cell_type": "markdown",
      "source": [
        "**Count and show all the types of categorical data:**"
      ],
      "metadata": {
        "id": "JTv4lGSEkaiw"
      }
    },
    {
      "cell_type": "code",
      "source": [
        "print(kolesa_ds.Кузов.value_counts())\n",
        "print(kolesa_ds.Топливо.value_counts())\n",
        "print(kolesa_ds.Привод.value_counts())\n",
        "print(kolesa_ds.Коробка.value_counts())"
      ],
      "metadata": {
        "colab": {
          "base_uri": "https://localhost:8080/"
        },
        "id": "IFkUWYQ7pev9",
        "outputId": "9c733912-8dce-4d12-d685-1ef2be26fa35"
      },
      "execution_count": 59,
      "outputs": [
        {
          "output_type": "stream",
          "name": "stdout",
          "text": [
            "седан           8500\n",
            "кроссовер       2159\n",
            "внедорожник     1955\n",
            "хэтчбек         1830\n",
            "универсал       1094\n",
            "минивэн          827\n",
            "фургон           293\n",
            "пикап            292\n",
            "микроавтобус     245\n",
            "купе             222\n",
            "лифтбек          114\n",
            "микровэн          87\n",
            "лимузин           45\n",
            "кабриолет         17\n",
            "фастбек            5\n",
            "родстер            5\n",
            "тарга              4\n",
            "хардтоп            1\n",
            "Name: Кузов, dtype: int64\n",
            "бензин    14266\n",
            "газ        2398\n",
            "дизель      986\n",
            "гибрид       45\n",
            "Name: Топливо, dtype: int64\n",
            "передний привод    9767\n",
            "полный привод      4905\n",
            "задний привод      3023\n",
            "Name: Привод, dtype: int64\n",
            "механика     7882\n",
            "автомат      7766\n",
            "типтроник    1412\n",
            "вариатор      481\n",
            "робот         154\n",
            "Name: Коробка, dtype: int64\n"
          ]
        }
      ]
    },
    {
      "cell_type": "markdown",
      "source": [
        "**Encoding the categorical columns**"
      ],
      "metadata": {
        "id": "-qVj-Uw0l3Mx"
      }
    },
    {
      "cell_type": "code",
      "source": [
        "kolesa_ds.replace({'Кузов': {'седан': 0, 'кроссовер': 1, 'внедорожник': 2, 'хэтчбек': 3, 'лифтбек': 4, 'универсал': 5,\n",
        "                              'минивэн': 6, 'фургон': 7, 'пикап': 8, 'микроавтобус': 9, 'купе': 10, 'микровэн': 11, \n",
        "                              'лимузин': 12, 'кабриолет': 13, 'фастбек': 14, 'тарга': 15, 'родстер': 16, 'хардтоп': 17},\n",
        "                     'Топливо': {'бензин': 0, 'газ': 1, 'гибрид': 2, 'дизель': 3},\n",
        "                     'Привод': {'передний привод': 0, 'полный привод': 1, 'задний привод': 2},\n",
        "                     'Коробка': {'механика': 0, 'автомат': 1, 'типтроник': 2, 'вариатор': 3, 'робот': 4}}, inplace=True)"
      ],
      "metadata": {
        "id": "M0nyooNuo3WN"
      },
      "execution_count": 60,
      "outputs": []
    },
    {
      "cell_type": "code",
      "source": [
        "kolesa_ds.head()"
      ],
      "metadata": {
        "colab": {
          "base_uri": "https://localhost:8080/",
          "height": 206
        },
        "id": "vnynIRtHufTF",
        "outputId": "1a69ca61-168d-44ac-9aec-24f06e07c264"
      },
      "execution_count": 61,
      "outputs": [
        {
          "output_type": "execute_result",
          "data": {
            "text/plain": [
              "                        _id       Бренд   Год                Город  Коробка  \\\n",
              "0  63ee3fb5cd8947c8a954d662      Nissan  1995              Шымкент        0   \n",
              "1  63ee3fb5cd8947c8a954d663  Mitsubishi  2020               Алматы        0   \n",
              "2  63ee3fb5cd8947c8a954d664  ВАЗ (Lada)  2007               Актобе        0   \n",
              "3  63ee3fb5cd8947c8a954d665     Porsche  2020  Нур-Султан (Астана)        1   \n",
              "4  63ee3fb5cd8947c8a954d666         JAC  2020             Костанай        0   \n",
              "\n",
              "   Кузов         Модель  Объем  Привод  Пробег  Топливо      Цена  \n",
              "0      0        Primera    1.6       0  319214        0    881000  \n",
              "1      8           L200    2.4       1  140000        3  14490000  \n",
              "2      0   2115 (седан)    1.5       0  140000        0    750000  \n",
              "3      1  Cayenne Coupe    3.0       1  140000        0  56062500  \n",
              "4      8             T6    2.0       1  140000        3   7550000  "
            ],
            "text/html": [
              "\n",
              "  <div id=\"df-a87127bf-84fd-4e30-9421-7273fd8a1aeb\">\n",
              "    <div class=\"colab-df-container\">\n",
              "      <div>\n",
              "<style scoped>\n",
              "    .dataframe tbody tr th:only-of-type {\n",
              "        vertical-align: middle;\n",
              "    }\n",
              "\n",
              "    .dataframe tbody tr th {\n",
              "        vertical-align: top;\n",
              "    }\n",
              "\n",
              "    .dataframe thead th {\n",
              "        text-align: right;\n",
              "    }\n",
              "</style>\n",
              "<table border=\"1\" class=\"dataframe\">\n",
              "  <thead>\n",
              "    <tr style=\"text-align: right;\">\n",
              "      <th></th>\n",
              "      <th>_id</th>\n",
              "      <th>Бренд</th>\n",
              "      <th>Год</th>\n",
              "      <th>Город</th>\n",
              "      <th>Коробка</th>\n",
              "      <th>Кузов</th>\n",
              "      <th>Модель</th>\n",
              "      <th>Объем</th>\n",
              "      <th>Привод</th>\n",
              "      <th>Пробег</th>\n",
              "      <th>Топливо</th>\n",
              "      <th>Цена</th>\n",
              "    </tr>\n",
              "  </thead>\n",
              "  <tbody>\n",
              "    <tr>\n",
              "      <th>0</th>\n",
              "      <td>63ee3fb5cd8947c8a954d662</td>\n",
              "      <td>Nissan</td>\n",
              "      <td>1995</td>\n",
              "      <td>Шымкент</td>\n",
              "      <td>0</td>\n",
              "      <td>0</td>\n",
              "      <td>Primera</td>\n",
              "      <td>1.6</td>\n",
              "      <td>0</td>\n",
              "      <td>319214</td>\n",
              "      <td>0</td>\n",
              "      <td>881000</td>\n",
              "    </tr>\n",
              "    <tr>\n",
              "      <th>1</th>\n",
              "      <td>63ee3fb5cd8947c8a954d663</td>\n",
              "      <td>Mitsubishi</td>\n",
              "      <td>2020</td>\n",
              "      <td>Алматы</td>\n",
              "      <td>0</td>\n",
              "      <td>8</td>\n",
              "      <td>L200</td>\n",
              "      <td>2.4</td>\n",
              "      <td>1</td>\n",
              "      <td>140000</td>\n",
              "      <td>3</td>\n",
              "      <td>14490000</td>\n",
              "    </tr>\n",
              "    <tr>\n",
              "      <th>2</th>\n",
              "      <td>63ee3fb5cd8947c8a954d664</td>\n",
              "      <td>ВАЗ (Lada)</td>\n",
              "      <td>2007</td>\n",
              "      <td>Актобе</td>\n",
              "      <td>0</td>\n",
              "      <td>0</td>\n",
              "      <td>2115 (седан)</td>\n",
              "      <td>1.5</td>\n",
              "      <td>0</td>\n",
              "      <td>140000</td>\n",
              "      <td>0</td>\n",
              "      <td>750000</td>\n",
              "    </tr>\n",
              "    <tr>\n",
              "      <th>3</th>\n",
              "      <td>63ee3fb5cd8947c8a954d665</td>\n",
              "      <td>Porsche</td>\n",
              "      <td>2020</td>\n",
              "      <td>Нур-Султан (Астана)</td>\n",
              "      <td>1</td>\n",
              "      <td>1</td>\n",
              "      <td>Cayenne Coupe</td>\n",
              "      <td>3.0</td>\n",
              "      <td>1</td>\n",
              "      <td>140000</td>\n",
              "      <td>0</td>\n",
              "      <td>56062500</td>\n",
              "    </tr>\n",
              "    <tr>\n",
              "      <th>4</th>\n",
              "      <td>63ee3fb5cd8947c8a954d666</td>\n",
              "      <td>JAC</td>\n",
              "      <td>2020</td>\n",
              "      <td>Костанай</td>\n",
              "      <td>0</td>\n",
              "      <td>8</td>\n",
              "      <td>T6</td>\n",
              "      <td>2.0</td>\n",
              "      <td>1</td>\n",
              "      <td>140000</td>\n",
              "      <td>3</td>\n",
              "      <td>7550000</td>\n",
              "    </tr>\n",
              "  </tbody>\n",
              "</table>\n",
              "</div>\n",
              "      <button class=\"colab-df-convert\" onclick=\"convertToInteractive('df-a87127bf-84fd-4e30-9421-7273fd8a1aeb')\"\n",
              "              title=\"Convert this dataframe to an interactive table.\"\n",
              "              style=\"display:none;\">\n",
              "        \n",
              "  <svg xmlns=\"http://www.w3.org/2000/svg\" height=\"24px\"viewBox=\"0 0 24 24\"\n",
              "       width=\"24px\">\n",
              "    <path d=\"M0 0h24v24H0V0z\" fill=\"none\"/>\n",
              "    <path d=\"M18.56 5.44l.94 2.06.94-2.06 2.06-.94-2.06-.94-.94-2.06-.94 2.06-2.06.94zm-11 1L8.5 8.5l.94-2.06 2.06-.94-2.06-.94L8.5 2.5l-.94 2.06-2.06.94zm10 10l.94 2.06.94-2.06 2.06-.94-2.06-.94-.94-2.06-.94 2.06-2.06.94z\"/><path d=\"M17.41 7.96l-1.37-1.37c-.4-.4-.92-.59-1.43-.59-.52 0-1.04.2-1.43.59L10.3 9.45l-7.72 7.72c-.78.78-.78 2.05 0 2.83L4 21.41c.39.39.9.59 1.41.59.51 0 1.02-.2 1.41-.59l7.78-7.78 2.81-2.81c.8-.78.8-2.07 0-2.86zM5.41 20L4 18.59l7.72-7.72 1.47 1.35L5.41 20z\"/>\n",
              "  </svg>\n",
              "      </button>\n",
              "      \n",
              "  <style>\n",
              "    .colab-df-container {\n",
              "      display:flex;\n",
              "      flex-wrap:wrap;\n",
              "      gap: 12px;\n",
              "    }\n",
              "\n",
              "    .colab-df-convert {\n",
              "      background-color: #E8F0FE;\n",
              "      border: none;\n",
              "      border-radius: 50%;\n",
              "      cursor: pointer;\n",
              "      display: none;\n",
              "      fill: #1967D2;\n",
              "      height: 32px;\n",
              "      padding: 0 0 0 0;\n",
              "      width: 32px;\n",
              "    }\n",
              "\n",
              "    .colab-df-convert:hover {\n",
              "      background-color: #E2EBFA;\n",
              "      box-shadow: 0px 1px 2px rgba(60, 64, 67, 0.3), 0px 1px 3px 1px rgba(60, 64, 67, 0.15);\n",
              "      fill: #174EA6;\n",
              "    }\n",
              "\n",
              "    [theme=dark] .colab-df-convert {\n",
              "      background-color: #3B4455;\n",
              "      fill: #D2E3FC;\n",
              "    }\n",
              "\n",
              "    [theme=dark] .colab-df-convert:hover {\n",
              "      background-color: #434B5C;\n",
              "      box-shadow: 0px 1px 3px 1px rgba(0, 0, 0, 0.15);\n",
              "      filter: drop-shadow(0px 1px 2px rgba(0, 0, 0, 0.3));\n",
              "      fill: #FFFFFF;\n",
              "    }\n",
              "  </style>\n",
              "\n",
              "      <script>\n",
              "        const buttonEl =\n",
              "          document.querySelector('#df-a87127bf-84fd-4e30-9421-7273fd8a1aeb button.colab-df-convert');\n",
              "        buttonEl.style.display =\n",
              "          google.colab.kernel.accessAllowed ? 'block' : 'none';\n",
              "\n",
              "        async function convertToInteractive(key) {\n",
              "          const element = document.querySelector('#df-a87127bf-84fd-4e30-9421-7273fd8a1aeb');\n",
              "          const dataTable =\n",
              "            await google.colab.kernel.invokeFunction('convertToInteractive',\n",
              "                                                     [key], {});\n",
              "          if (!dataTable) return;\n",
              "\n",
              "          const docLinkHtml = 'Like what you see? Visit the ' +\n",
              "            '<a target=\"_blank\" href=https://colab.research.google.com/notebooks/data_table.ipynb>data table notebook</a>'\n",
              "            + ' to learn more about interactive tables.';\n",
              "          element.innerHTML = '';\n",
              "          dataTable['output_type'] = 'display_data';\n",
              "          await google.colab.output.renderOutput(dataTable, element);\n",
              "          const docLink = document.createElement('div');\n",
              "          docLink.innerHTML = docLinkHtml;\n",
              "          element.appendChild(docLink);\n",
              "        }\n",
              "      </script>\n",
              "    </div>\n",
              "  </div>\n",
              "  "
            ]
          },
          "metadata": {},
          "execution_count": 61
        }
      ]
    },
    {
      "cell_type": "markdown",
      "source": [
        "# **Dropping the data and defining the target**"
      ],
      "metadata": {
        "id": "FKrs5jasmBeq"
      }
    },
    {
      "cell_type": "code",
      "source": [
        "X = kolesa_ds.drop(['Бренд','Цена','Город','Модель','Цена', '_id'],axis=1)\n",
        "Y = kolesa_ds['Цена']"
      ],
      "metadata": {
        "id": "0_htzQKtt8jn"
      },
      "execution_count": 62,
      "outputs": []
    },
    {
      "cell_type": "markdown",
      "source": [
        "**The data, that will be used:**"
      ],
      "metadata": {
        "id": "ufr850TxmNIZ"
      }
    },
    {
      "cell_type": "code",
      "source": [
        "print(X)"
      ],
      "metadata": {
        "colab": {
          "base_uri": "https://localhost:8080/"
        },
        "id": "LiWrhz8cuo_O",
        "outputId": "68b6fd47-6c85-4744-e5e9-6b94ce4c00f6"
      },
      "execution_count": 63,
      "outputs": [
        {
          "output_type": "stream",
          "name": "stdout",
          "text": [
            "        Год  Коробка  Кузов  Объем  Привод  Пробег  Топливо\n",
            "0      1995        0      0    1.6       0  319214        0\n",
            "1      2020        0      8    2.4       1  140000        3\n",
            "2      2007        0      0    1.5       0  140000        0\n",
            "3      2020        1      1    3.0       1  140000        0\n",
            "4      2020        0      8    2.0       1  140000        3\n",
            "...     ...      ...    ...    ...     ...     ...      ...\n",
            "19977  2007        0      0    1.6       0    1450        0\n",
            "19978  1992        0     10    1.8       0   11111        0\n",
            "19981  2013        0      3    1.6       0  179000        1\n",
            "19982  2000        0      3    1.6       0  140000        0\n",
            "19984  2019        1      6    2.5       2   22000        3\n",
            "\n",
            "[17695 rows x 7 columns]\n"
          ]
        }
      ]
    },
    {
      "cell_type": "markdown",
      "source": [
        "**Storing the target values:**"
      ],
      "metadata": {
        "id": "Md2Xf7RfmR_h"
      }
    },
    {
      "cell_type": "code",
      "source": [
        "print(Y)"
      ],
      "metadata": {
        "colab": {
          "base_uri": "https://localhost:8080/"
        },
        "id": "kMwTh7rEuse5",
        "outputId": "f3ef156d-0b03-4849-ac9f-ed8810d47e1f"
      },
      "execution_count": 64,
      "outputs": [
        {
          "output_type": "stream",
          "name": "stdout",
          "text": [
            "0          881000\n",
            "1        14490000\n",
            "2          750000\n",
            "3        56062500\n",
            "4         7550000\n",
            "           ...   \n",
            "19977     1300000\n",
            "19978      950000\n",
            "19981     1700000\n",
            "19982      370000\n",
            "19984    17500000\n",
            "Name: Цена, Length: 17695, dtype: int64\n"
          ]
        }
      ]
    },
    {
      "cell_type": "markdown",
      "source": [
        "# Spitting the training and testing data's\n",
        "\n",
        "\n"
      ],
      "metadata": {
        "id": "h1WB5FUcZk6H"
      }
    },
    {
      "cell_type": "code",
      "source": [
        "X_train, X_test, Y_train, Y_test = train_test_split(X, Y, test_size = 0.1, random_state=2)"
      ],
      "metadata": {
        "id": "hkIEmDtYuuFf"
      },
      "execution_count": 65,
      "outputs": []
    },
    {
      "cell_type": "markdown",
      "source": [
        "# Training the model"
      ],
      "metadata": {
        "id": "0IvEryIPZsGe"
      }
    },
    {
      "cell_type": "markdown",
      "source": [
        "**Using the linear regression:**"
      ],
      "metadata": {
        "id": "FW8djakHmiwB"
      }
    },
    {
      "cell_type": "code",
      "source": [
        "lin_reg_model = LinearRegression()"
      ],
      "metadata": {
        "id": "cIY39a_9uv3V"
      },
      "execution_count": 66,
      "outputs": []
    },
    {
      "cell_type": "code",
      "source": [
        "lin_reg_model.fit(X_train,Y_train)"
      ],
      "metadata": {
        "colab": {
          "base_uri": "https://localhost:8080/"
        },
        "id": "9k3VBjNnuxRd",
        "outputId": "ad7f4352-c7a3-4fc2-fd8c-9a92d4870b7d"
      },
      "execution_count": 67,
      "outputs": [
        {
          "output_type": "execute_result",
          "data": {
            "text/plain": [
              "LinearRegression()"
            ]
          },
          "metadata": {},
          "execution_count": 67
        }
      ]
    },
    {
      "cell_type": "markdown",
      "source": [
        "**Giving prediction on training:**"
      ],
      "metadata": {
        "id": "sMgC1Iramq_B"
      }
    },
    {
      "cell_type": "code",
      "source": [
        "training_data_prediction = lin_reg_model.predict(X_train)"
      ],
      "metadata": {
        "id": "pSlfTkpqvN2d"
      },
      "execution_count": 68,
      "outputs": []
    },
    {
      "cell_type": "markdown",
      "source": [
        "**Evaluating the R^2 error score:**"
      ],
      "metadata": {
        "id": "h99qJnPFmuXA"
      }
    },
    {
      "cell_type": "code",
      "source": [
        "error_score = metrics.r2_score(Y_train, training_data_prediction)\n",
        "print(\"R^2 Error : \", error_score)"
      ],
      "metadata": {
        "colab": {
          "base_uri": "https://localhost:8080/"
        },
        "id": "2GIh-AbFvOzB",
        "outputId": "ba365c6b-3b69-4546-d713-b6959253872a"
      },
      "execution_count": 69,
      "outputs": [
        {
          "output_type": "stream",
          "name": "stdout",
          "text": [
            "R^2 Error :  0.4032026732642384\n"
          ]
        }
      ]
    },
    {
      "cell_type": "markdown",
      "source": [
        "**Visualizing the Actual and Predicted prices**"
      ],
      "metadata": {
        "id": "ZWhLY9lTZ2n4"
      }
    },
    {
      "cell_type": "code",
      "source": [
        "plt.scatter(Y_train, training_data_prediction)\n",
        "plt.xlabel(\"Actual Price\")\n",
        "plt.ylabel(\"Predicted Price\")\n",
        "plt.title(\" Actual Prices vs Predicted Prices\")\n",
        "plt.show()"
      ],
      "metadata": {
        "colab": {
          "base_uri": "https://localhost:8080/",
          "height": 295
        },
        "id": "8eLHg8THvQM9",
        "outputId": "c4410519-092a-4354-cd1d-31f1f622b030"
      },
      "execution_count": 70,
      "outputs": [
        {
          "output_type": "display_data",
          "data": {
            "text/plain": [
              "<Figure size 432x288 with 1 Axes>"
            ],
            "image/png": "[encoded data removed]"
          },
          "metadata": {
            "needs_background": "light"
          }
        }
      ]
    },
    {
      "cell_type": "markdown",
      "source": [
        "**Prediction on test data:**"
      ],
      "metadata": {
        "id": "Qa1CXjv1nBdW"
      }
    },
    {
      "cell_type": "code",
      "source": [
        "test_data_prediction = lin_reg_model.predict(X_test)"
      ],
      "metadata": {
        "id": "_UHqB13dvVBG"
      },
      "execution_count": 71,
      "outputs": []
    },
    {
      "cell_type": "code",
      "source": [
        "error_score = metrics.r2_score(Y_test, test_data_prediction)\n",
        "print(\"R^2 Error : \", error_score)"
      ],
      "metadata": {
        "colab": {
          "base_uri": "https://localhost:8080/"
        },
        "id": "exY6YooDvVgG",
        "outputId": "ba4e9be1-56d2-4662-d2e5-03d498fc3312"
      },
      "execution_count": 72,
      "outputs": [
        {
          "output_type": "stream",
          "name": "stdout",
          "text": [
            "R^2 Error :  0.43471705054072884\n"
          ]
        }
      ]
    },
    {
      "cell_type": "code",
      "source": [
        "plt.scatter(Y_test, test_data_prediction)\n",
        "plt.xlabel(\"actual Price\")\n",
        "plt.ylabel(\"predicted Price\")\n",
        "plt.title(\"actual prices vs predicted prices\")\n",
        "plt.show()"
      ],
      "metadata": {
        "colab": {
          "base_uri": "https://localhost:8080/",
          "height": 295
        },
        "id": "0YjBPYylvWje",
        "outputId": "2df1cb54-c509-4b9b-e2da-d36f889bc156"
      },
      "execution_count": 73,
      "outputs": [
        {
          "output_type": "display_data",
          "data": {
            "text/plain": [
              "<Figure size 432x288 with 1 Axes>"
            ],
            "image/png": "[encoded data removed]"
          },
          "metadata": {
            "needs_background": "light"
          }
        }
      ]
    },
    {
      "cell_type": "markdown",
      "source": [
        "**Testing the model on own data:**"
      ],
      "metadata": {
        "id": "-aAgzPlrn414"
      }
    },
    {
      "cell_type": "code",
      "source": [
        "new_car = {'Пробег': 140000, 'Год': 2020, 'Топливо': 3, 'Кузов': 8, 'Привод': 1, 'Коробка': 0, 'Объем': 2.4}\n",
        "new_car_df = pd.DataFrame(new_car, index=[0])\n",
        "new_car_price = lin_reg_model.predict(new_car_df) #making a prediction for new car\n",
        "\n",
        "print('Predicted price of the car:', round((new_car_price[0]), 2))"
      ],
      "metadata": {
        "colab": {
          "base_uri": "https://localhost:8080/"
        },
        "id": "Ne5n7-e4H0F9",
        "outputId": "157ae73a-1504-41fa-a3cb-21cd9db75c5c"
      },
      "execution_count": 74,
      "outputs": [
        {
          "output_type": "stream",
          "name": "stdout",
          "text": [
            "Predicted price of the car: 51362836669.04\n"
          ]
        },
        {
          "output_type": "stream",
          "name": "stderr",
          "text": [
            "/usr/local/lib/python3.8/dist-packages/sklearn/base.py:493: FutureWarning: The feature names should match those that were passed during fit. Starting version 1.2, an error will be raised.\n",
            "Feature names must be in the same order as they were in fit.\n",
            "\n",
            "  warnings.warn(message, FutureWarning)\n"
          ]
        }
      ]
    },
    {
      "cell_type": "markdown",
      "source": [
        "# Visualization for data"
      ],
      "metadata": {
        "id": "IT6KtyzfPglz"
      }
    },
    {
      "cell_type": "markdown",
      "source": [
        "**Plot for distribution of car prices:**"
      ],
      "metadata": {
        "id": "NjfCJ6qioCsQ"
      }
    },
    {
      "cell_type": "code",
      "source": [
        "sns.histplot(data=kolesa_ds, x=\"Цена\", bins=20)\n",
        "plt.title(\"Distribution of Car Prices\")\n",
        "plt.show()"
      ],
      "metadata": {
        "colab": {
          "base_uri": "https://localhost:8080/",
          "height": 295
        },
        "id": "2D8mU1dgPlgL",
        "outputId": "44dec4f5-d0a1-40d7-d85f-0cbaaa4d2f0e"
      },
      "execution_count": 75,
      "outputs": [
        {
          "output_type": "display_data",
          "data": {
            "text/plain": [
              "<Figure size 432x288 with 1 Axes>"
            ],
            "image/png": "[encoded data removed]"
          },
          "metadata": {
            "needs_background": "light"
          }
        }
      ]
    },
    {
      "cell_type": "markdown",
      "source": [
        "**Heatmap correlation matrix:**"
      ],
      "metadata": {
        "id": "UZBORO4ioaqJ"
      }
    },
    {
      "cell_type": "code",
      "source": [
        "corr_matrix = kolesa_ds.corr()\n",
        "sns.heatmap(corr_matrix, annot=True)\n",
        "plt.title(\"Correlation Matrix\")\n",
        "plt.show()"
      ],
      "metadata": {
        "colab": {
          "base_uri": "https://localhost:8080/",
          "height": 315
        },
        "id": "Xk3UWdYySLwx",
        "outputId": "d49f92d3-6c3f-4ec5-eff4-7b1375f10acc"
      },
      "execution_count": 76,
      "outputs": [
        {
          "output_type": "display_data",
          "data": {
            "text/plain": [
              "<Figure size 432x288 with 2 Axes>"
            ],
            "image/png": "[encoded data removed]"
          },
          "metadata": {
            "needs_background": "light"
          }
        }
      ]
    },
    {
      "cell_type": "markdown",
      "source": [
        "**Top 10 brands from the dataset:**"
      ],
      "metadata": {
        "id": "2OGmy9LyolTx"
      }
    },
    {
      "cell_type": "code",
      "source": [
        "top_10_brands = kolesa_ds['Бренд'].value_counts().sort_values(ascending=False).head(10)\n",
        "plt.figure(figsize=(10, 5))\n",
        "sns.barplot(x=top_10_brands.index, y=top_10_brands.values)\n",
        "plt.title(\"Top 10 Car Brands\")\n",
        "plt.xlabel(\"Brand\")\n",
        "plt.ylabel(\"Count\")\n",
        "plt.show()"
      ],
      "metadata": {
        "colab": {
          "base_uri": "https://localhost:8080/",
          "height": 350
        },
        "id": "dYizZgZEStOA",
        "outputId": "f5f448ff-bc62-4cb1-88cb-2286bd446001"
      },
      "execution_count": 77,
      "outputs": [
        {
          "output_type": "display_data",
          "data": {
            "text/plain": [
              "<Figure size 720x360 with 1 Axes>"
            ],
            "image/png": "[encoded data removed]"
          },
          "metadata": {
            "needs_background": "light"
          }
        }
      ]
    },
    {
      "cell_type": "markdown",
      "source": [
        "**The dearest models among the dataset:**"
      ],
      "metadata": {
        "id": "kvKneh_qop6X"
      }
    },
    {
      "cell_type": "code",
      "source": [
        "top_10_dearest_cars = kolesa_ds.sort_values(by='Цена', ascending=False).head(10)\n",
        "plt.figure(figsize=(10, 5))\n",
        "sns.barplot(x='Модель', y='Цена', data=top_10_dearest_cars)\n",
        "plt.title(\"Top 10 Dearest Cars\")\n",
        "plt.xlabel(\"Model\")\n",
        "plt.ylabel(\"Price\")\n",
        "plt.show()"
      ],
      "metadata": {
        "colab": {
          "base_uri": "https://localhost:8080/",
          "height": 350
        },
        "id": "isWU6It9Svau",
        "outputId": "4fe3a555-1037-4a22-bc9c-951ef726afd4"
      },
      "execution_count": 78,
      "outputs": [
        {
          "output_type": "display_data",
          "data": {
            "text/plain": [
              "<Figure size 720x360 with 1 Axes>"
            ],
            "image/png": "[encoded data removed]"
          },
          "metadata": {
            "needs_background": "light"
          }
        }
      ]
    }
  ],
  "metadata": {
    "colab": {
      "provenance": [],
      "toc_visible": true
    },
    "kernelspec": {
      "display_name": "Python 3",
      "name": "python3"
    },
    "language_info": {
      "name": "python"
    }
  },
  "nbformat": 4,
  "nbformat_minor": 0
}